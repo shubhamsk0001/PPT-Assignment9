{
 "cells": [
  {
   "cell_type": "code",
   "execution_count": null,
   "id": "7ced986b",
   "metadata": {},
   "outputs": [],
   "source": [
    "Given an integer `n`, return *`true` if it is a power of two. Otherwise, return `false`*.\n",
    "\n",
    "An integer `n` is a power of two, if there exists an integer `x` such that `n == 2x`.\n",
    "\n",
    "**Example 1:**\n",
    "Input: n = 1 \n",
    "\n",
    "Output: true\n",
    "\n",
    "**Example 2:**\n",
    "Input: n = 16 \n",
    "\n",
    "Output: true\n",
    "\n",
    "**Example 3:**\n",
    "Input: n = 3 \n",
    "\n",
    "Output: false"
   ]
  },
  {
   "cell_type": "code",
   "execution_count": 3,
   "id": "75dbe8ec",
   "metadata": {},
   "outputs": [
    {
     "name": "stdout",
     "output_type": "stream",
     "text": [
      "True\n"
     ]
    }
   ],
   "source": [
    "    def isPowerOfTwo(n):\n",
    "        if n <= 0:\n",
    "            return False\n",
    "        if n&(n-1) == 0:\n",
    "            return True\n",
    "        else: \n",
    "            return False\n",
    "    print(isPowerOfTwo(1))"
   ]
  },
  {
   "cell_type": "code",
   "execution_count": null,
   "id": "d4eee109",
   "metadata": {},
   "outputs": [],
   "source": [
    "**Question 2**\n",
    "\n",
    "Given a number n, find the sum of the first natural numbers.\n",
    "\n",
    "**Example 1:**\n",
    "\n",
    "Input: n = 3 \n",
    "\n",
    "Output: 6\n",
    "\n",
    "**Example 2:**\n",
    "\n",
    "Input  : 5 \n",
    "\n",
    "Output : 15"
   ]
  },
  {
   "cell_type": "code",
   "execution_count": 5,
   "id": "2c5495fc",
   "metadata": {},
   "outputs": [
    {
     "name": "stdout",
     "output_type": "stream",
     "text": [
      "15\n"
     ]
    }
   ],
   "source": [
    "def findSum(n):\n",
    "    sum = 0\n",
    "    x = 1\n",
    "    while x <= n:\n",
    "        sum = sum + x\n",
    "        x = x + 1\n",
    "    return sum\n",
    "print(findSum(5))"
   ]
  },
  {
   "cell_type": "code",
   "execution_count": null,
   "id": "4870a1ce",
   "metadata": {},
   "outputs": [],
   "source": [
    " **Question 3**\n",
    "\n",
    "****Given a positive integer, N. Find the factorial of N. \n",
    "\n",
    "**Example 1:**\n",
    "\n",
    "Input: N = 5 \n",
    "\n",
    "Output: 120"
   ]
  },
  {
   "cell_type": "code",
   "execution_count": 6,
   "id": "d980233e",
   "metadata": {},
   "outputs": [
    {
     "name": "stdout",
     "output_type": "stream",
     "text": [
      "120\n"
     ]
    }
   ],
   "source": [
    "def findProduct(n):\n",
    "    fact = 1\n",
    "    x = 1\n",
    "    while x <= n:\n",
    "        fact = fact * x\n",
    "        x = x + 1\n",
    "    return fact\n",
    "print(findProduct(5))"
   ]
  },
  {
   "cell_type": "code",
   "execution_count": null,
   "id": "c997359c",
   "metadata": {},
   "outputs": [],
   "source": [
    "**Question 4**\n",
    "\n",
    "Given a number N and a power P, the task is to find the exponent of this number raised to the given power, i.e. N^P.\n",
    "\n",
    "**Example 1 :** \n",
    "\n",
    "Input: N = 5, P = 2\n",
    "\n",
    "Output: 25\n",
    "\n",
    "**Example 2 :**\n",
    "Input: N = 2, P = 5\n",
    "\n",
    "Output: 32"
   ]
  },
  {
   "cell_type": "code",
   "execution_count": 7,
   "id": "34510fac",
   "metadata": {},
   "outputs": [
    {
     "name": "stdout",
     "output_type": "stream",
     "text": [
      "32\n"
     ]
    }
   ],
   "source": [
    "def CalculatePower(N,X):\n",
    "    P=1\n",
    "    for i in range(1, X+1):\n",
    "        P=P*N\n",
    "    return P\n",
    "print(CalculatePower(2,5))\n",
    "    "
   ]
  },
  {
   "cell_type": "code",
   "execution_count": null,
   "id": "a6a64590",
   "metadata": {},
   "outputs": [],
   "source": [
    "**Question 5**\n",
    "\n",
    "Given an array of integers **arr**, the task is to find maximum element of that array using recursion.\n",
    "\n",
    "**Example 1:**\n",
    "\n",
    "Input: arr = {1, 4, 3, -5, -4, 8, 6};\n",
    "Output: 8\n",
    "\n",
    "**Example 2:**\n",
    "\n",
    "Input: arr = {1, 4, 45, 6, 10, -8};\n",
    "Output: 45"
   ]
  },
  {
   "cell_type": "code",
   "execution_count": 8,
   "id": "67b2c807",
   "metadata": {},
   "outputs": [
    {
     "name": "stdout",
     "output_type": "stream",
     "text": [
      "8\n"
     ]
    }
   ],
   "source": [
    "def findMaxRec(A, n):\n",
    " \n",
    "    # if n = 0 means whole array\n",
    "    # has been traversed\n",
    "    if (n == 1):\n",
    "        return A[0]\n",
    "    return max(A[n - 1], findMaxRec(A, n - 1))\n",
    "print(findMaxRec([1, 4, 3, -5, -4, 8, 6],7))"
   ]
  },
  {
   "cell_type": "code",
   "execution_count": null,
   "id": "d91798c3",
   "metadata": {},
   "outputs": [],
   "source": [
    "**Question 6**\n",
    "\n",
    "Given first term (a), common difference (d) and a integer N of the Arithmetic Progression series, the task is to find Nth \n",
    "term of the series.\n",
    "\n",
    "**Example 1:**\n",
    "\n",
    "Input : a = 2 d = 1 N = 5\n",
    "Output : 6\n",
    "The 5th term of the series is : 6\n",
    "\n",
    "**Example 2:**\n",
    "\n",
    "Input : a = 5 d = 2 N = 10\n",
    "Output : 23\n",
    "The 10th term of the series is : 23"
   ]
  },
  {
   "cell_type": "code",
   "execution_count": 9,
   "id": "c70b99f0",
   "metadata": {},
   "outputs": [
    {
     "name": "stdout",
     "output_type": "stream",
     "text": [
      "23\n"
     ]
    }
   ],
   "source": [
    "def Nth_of_AP(a, d, N) :\n",
    " \n",
    "    # using formula to find the\n",
    "    # Nth term t(n) = a(1) + (n-1)*d\n",
    "    return (a + (N - 1) * d)\n",
    "print(Nth_of_AP(5,2,10))"
   ]
  },
  {
   "cell_type": "code",
   "execution_count": null,
   "id": "b7d41741",
   "metadata": {},
   "outputs": [],
   "source": [
    "**Question 7**\n",
    "\n",
    "Given a string S, the task is to write a program to print all permutations of a given string.\n",
    "\n",
    "**Example 1:**\n",
    "\n",
    "***Input:***\n",
    "\n",
    "*S = “ABC”*\n",
    "\n",
    "***Output:***\n",
    "\n",
    "*“ABC”, “ACB”, “BAC”, “BCA”, “CBA”, “CAB”*\n",
    "\n",
    "**Example 2:**\n",
    "\n",
    "***Input:***\n",
    "\n",
    "*S = “XY”*\n",
    "\n",
    "***Output:***\n",
    "\n",
    "*“XY”, “YX”*"
   ]
  },
  {
   "cell_type": "code",
   "execution_count": 10,
   "id": "e37bf745",
   "metadata": {},
   "outputs": [
    {
     "name": "stdout",
     "output_type": "stream",
     "text": [
      "ABC\n",
      "ACB\n",
      "BAC\n",
      "BCA\n",
      "CAB\n",
      "CBA\n"
     ]
    }
   ],
   "source": [
    "import itertools\n",
    " \n",
    "s = \"ABC\"\n",
    " \n",
    "# Sort the characters of the string in ascending order\n",
    "s_sorted = sorted(s)\n",
    " \n",
    "# Generate all permutations of the sorted string\n",
    "permutations = itertools.permutations(s_sorted)\n",
    "# Print each permutation\n",
    "for perm in permutations:\n",
    "    print(''.join(perm))"
   ]
  },
  {
   "cell_type": "code",
   "execution_count": null,
   "id": "e48aa3c6",
   "metadata": {},
   "outputs": [],
   "source": [
    "**Question 8**\n",
    "\n",
    "Given an array, find a product of all array elements.\n",
    "\n",
    "**Example 1:**\n",
    "\n",
    "Input  : arr[] = {1, 2, 3, 4, 5}\n",
    "Output : 120\n",
    "**Example 2:**\n",
    "\n",
    "Input  : arr[] = {1, 6, 3}\n",
    "Output : 18"
   ]
  },
  {
   "cell_type": "code",
   "execution_count": 11,
   "id": "c492c42c",
   "metadata": {},
   "outputs": [
    {
     "name": "stdout",
     "output_type": "stream",
     "text": [
      "120\n"
     ]
    }
   ],
   "source": [
    "arr=[1,2,3,4,5]\n",
    "product=1\n",
    "  \n",
    "#initialize start and last pointers\n",
    "i=0\n",
    "j=len(arr)-1\n",
    "  \n",
    "#add first and last simultaneously \n",
    "while(i<j):\n",
    "    product*=arr[i]*arr[j]\n",
    "    i+=1\n",
    "    j-=1\n",
    "      \n",
    "#multiply only one element\n",
    "if(i==j):\n",
    "    product*=arr[i]\n",
    "  \n",
    "#printing product\n",
    "print(product)"
   ]
  }
 ],
 "metadata": {
  "kernelspec": {
   "display_name": "Python 3 (ipykernel)",
   "language": "python",
   "name": "python3"
  },
  "language_info": {
   "codemirror_mode": {
    "name": "ipython",
    "version": 3
   },
   "file_extension": ".py",
   "mimetype": "text/x-python",
   "name": "python",
   "nbconvert_exporter": "python",
   "pygments_lexer": "ipython3",
   "version": "3.9.12"
  }
 },
 "nbformat": 4,
 "nbformat_minor": 5
}
